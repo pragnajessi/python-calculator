{
  "nbformat": 4,
  "nbformat_minor": 0,
  "metadata": {
    "colab": {
      "provenance": [],
      "authorship_tag": "ABX9TyNEJgEbq1+qPP6dOnEaa1fz",
      "include_colab_link": true
    },
    "kernelspec": {
      "name": "python3",
      "display_name": "Python 3"
    },
    "language_info": {
      "name": "python"
    }
  },
  "cells": [
    {
      "cell_type": "markdown",
      "metadata": {
        "id": "view-in-github",
        "colab_type": "text"
      },
      "source": [
        "<a href=\"https://colab.research.google.com/github/pragnajessi/python-calculator/blob/main/Simple_Calculator.ipynb\" target=\"_parent\"><img src=\"https://colab.research.google.com/assets/colab-badge.svg\" alt=\"Open In Colab\"/></a>"
      ]
    },
    {
      "cell_type": "code",
      "execution_count": 5,
      "metadata": {
        "colab": {
          "base_uri": "https://localhost:8080/"
        },
        "id": "-WHTSTVO3G1o",
        "outputId": "0c367b50-6b7d-4d40-d5cd-f9126b11a261"
      },
      "outputs": [
        {
          "output_type": "stream",
          "name": "stdout",
          "text": [
            "---Simple Calculator---\n",
            "Enter First Number: 99\n",
            "Enter Second Number: 88\n",
            "Enter Operations(+,-,*,/,%,//): *\n",
            "Result:  8712.0\n"
          ]
        }
      ],
      "source": [
        "# Simple Calculator Program\n",
        "print(\"---Simple Calculator---\")\n",
        "A=float(input(\"Enter First Number: \"))\n",
        "B=float(input(\"Enter Second Number: \"))\n",
        "op=input(\"Enter Operations(+,-,*,/,%,//): \")\n",
        "if op == '+':\n",
        "  result= A+B\n",
        "elif op == '-':\n",
        "  result= A-B\n",
        "elif op == '*':\n",
        "  result = A*B\n",
        "elif op == '/':\n",
        "  result = A/B\n",
        "elif op == '%':\n",
        "  result = A%B\n",
        "elif op == '//':\n",
        "  result = A//B\n",
        "else:\n",
        "  result = \"Invalid Operation\"\n",
        "print(\"Result: \",result)"
      ]
    }
  ]
}