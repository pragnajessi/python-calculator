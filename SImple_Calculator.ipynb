{
  "nbformat": 4,
  "nbformat_minor": 0,
  "metadata": {
    "colab": {
      "provenance": [],
      "authorship_tag": "ABX9TyNEJgEbq1+qPP6dOnEaa1fz",
      "include_colab_link": true
    },
    "kernelspec": {
      "name": "python3",
      "display_name": "Python 3"
    },
    "language_info": {
      "name": "python"
    }
  },
  "cells": [
    {
      "cell_type": "markdown",
      "metadata": {
        "id": "view-in-github",
        "colab_type": "text"
      },
      "source": [
        "<a href=\"https://colab.research.google.com/github/pragnajessi/python-calculator/blob/main/SImple_Calculator.ipynb\" target=\"_parent\"><img src=\"https://colab.research.google.com/assets/colab-badge.svg\" alt=\"Open In Colab\"/></a>"
      ]
    },
    {
      "cell_type": "code",
      "source": [
        "# Simple Calculator Program\n",
        "print(\"---Simple Calculator---\")\n",
        "A=float(input(\"Enter First Number: \"))\n",
        "B=float(input(\"Enter Second Number: \"))\n",
        "op=input(\"Enter Operations(+,-,*,/,%,//): \")\n",
        "if op == '+':\n",
        "  result= A+B\n",
        "elif op == '-':\n",
        "  result= A-B\n",
        "elif op == '*':\n",
        "  result = A*B\n",
        "elif op == '/':\n",
        "  result = A/B\n",
        "elif op == '%':\n",
        "  result = A%B\n",
        "elif op == '//':\n",
        "  result = A//B\n",
        "else:\n",
        "  result = \"Invalid Operation\"\n",
        "print(\"Result: \",result)"
      ],
      "metadata": {
        "colab": {
          "base_uri": "https://localhost:8080/"
        },
        "id": "iYgFl1tm4aZ4",
        "outputId": "e002ab14-46c5-4edd-d99b-9e3ec8a80ec2"
      },
      "execution_count": 1,
      "outputs": [
        {
          "output_type": "stream",
          "name": "stdout",
          "text": [
            "---Simple Calculator---\n",
            "Enter First Number: 88\n",
            "Enter Second Number: 99\n",
            "Enter Operations(+,-,*,/,%,//): *\n",
            "Result:  8712.0\n"
          ]
        }
      ]
    }
  ]
}